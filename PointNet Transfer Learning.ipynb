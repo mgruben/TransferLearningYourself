{
 "cells": [
  {
   "cell_type": "markdown",
   "metadata": {},
   "source": [
    "# Introduction\n",
    "The purpose of this notebook is to prove that it's possible to perform transfer learning on your own architecture, using your own dataset, without having to go through some [crazy scripting hoops](https://github.com/tensorflow/tensorflow/blob/master/tensorflow/examples/image_retraining/retrain.py).\n",
    "\n",
    "[Google's transfer learning tutorial](https://www.tensorflow.org/tutorials/image_retraining) is good at convincing you that transfer learning is possible, but it:  \n",
    "1.  Doesn't really allow you to change the underlying architecture very easily,  \n",
    "2.  Goes through clever intermediate value caching, which is super-performant, but also puts a large code base between their example and our purposes, and  \n",
    "3.  Isn't something I wrote, so it's not something I understand intuitively yet.\n",
    "\n",
    "Let's fix the above problems.  \n",
    "Let's train an MNIST model on the first eight digits (0-7), then use transfer learning to train a last layer that can predict between last two (8 and 9).\n",
    "\n",
    "See, e.g., [Deep MNIST for Experts](https://www.tensorflow.org/get_started/mnist/pros#build_a_multilayer_convolutional_network) for the general architecture that I'll be using."
   ]
  },
  {
   "cell_type": "code",
   "execution_count": 1,
   "metadata": {},
   "outputs": [
    {
     "name": "stderr",
     "output_type": "stream",
     "text": [
      "/home/human/miniconda3/envs/archform/lib/python3.6/importlib/_bootstrap.py:219: RuntimeWarning: compiletime version 3.5 of module 'tensorflow.python.framework.fast_tensor_util' does not match runtime version 3.6\n",
      "  return f(*args, **kwds)\n"
     ]
    }
   ],
   "source": [
    "import tensorflow as tf"
   ]
  },
  {
   "cell_type": "markdown",
   "metadata": {},
   "source": [
    "### Loading the MNIST Data\n",
    "`TensorFlow` provides a loader for MNIST, but it doesn't easily let us separate the data into digits 0-7 and 8 & 9.  \n",
    "Accordingly, let's [use `keras` instead](https://keras.io/datasets/#mnist-database-of-handwritten-digits)."
   ]
  },
  {
   "cell_type": "code",
   "execution_count": 2,
   "metadata": {},
   "outputs": [
    {
     "name": "stderr",
     "output_type": "stream",
     "text": [
      "Using TensorFlow backend.\n"
     ]
    }
   ],
   "source": [
    "from keras.datasets import mnist\n",
    "import numpy as np\n",
    "import matplotlib.pyplot as plt\n",
    "\n",
    "%matplotlib inline"
   ]
  },
  {
   "cell_type": "code",
   "execution_count": 3,
   "metadata": {},
   "outputs": [],
   "source": [
    "(x_train, y_train), (x_test, y_test) = mnist.load_data()"
   ]
  },
  {
   "cell_type": "code",
   "execution_count": 4,
   "metadata": {},
   "outputs": [
    {
     "data": {
      "text/plain": [
       "(array([ 5923.,  6742.,  5958.,  6131.,  5842.,  5421.,  5918.,  6265.,\n",
       "         5851.,  5949.]),\n",
       " array([ 0. ,  0.9,  1.8,  2.7,  3.6,  4.5,  5.4,  6.3,  7.2,  8.1,  9. ]),\n",
       " <a list of 10 Patch objects>)"
      ]
     },
     "execution_count": 4,
     "metadata": {},
     "output_type": "execute_result"
    },
    {
     "data": {
      "image/png": "[encoded data removed]",
      "text/plain": [
       "<matplotlib.figure.Figure at 0x7fb0afef75f8>"
      ]
     },
     "metadata": {},
     "output_type": "display_data"
    }
   ],
   "source": [
    "plt.hist(y_train, bins=10)"
   ]
  },
  {
   "cell_type": "markdown",
   "metadata": {},
   "source": [
    "Ok excellent, the dataset is already roughly balanced between classes.\n",
    "\n",
    "Keep in mind that we'll be peeling off the last two classes, `8` and `9`, into their own dataset.\n",
    "\n",
    "Let's define a helper function that to help us separate out only the digits we want from the mixed entire dataset."
   ]
  },
  {
   "cell_type": "code",
   "execution_count": 5,
   "metadata": {},
   "outputs": [],
   "source": [
    "def getDigitsFromDataset(digits, x, y):\n",
    "    \"\"\"\n",
    "    Given an iterable of digits,\n",
    "    return the portion of x and y that contain\n",
    "    those digits.\n",
    "    \"\"\"\n",
    "    mask = np.zeros_like(y, dtype=bool)\n",
    "    for digit in digits:\n",
    "        mask += (y == digit)\n",
    "        \n",
    "    x = x[mask]\n",
    "    y = y[mask]\n",
    "    \n",
    "    return x, y"
   ]
  },
  {
   "cell_type": "markdown",
   "metadata": {},
   "source": [
    "Let's adopt a naming system that will help us keep what we're trying to do straight:  \n",
    "`base` will refer to the dataset containing the digits `0` through `7`.  \n",
    "`transfer` will refer to the dataset containing the digits `8` and `9`."
   ]
  },
  {
   "cell_type": "code",
   "execution_count": 6,
   "metadata": {},
   "outputs": [],
   "source": [
    "x_train_base, y_train_base = getDigitsFromDataset([*range(8)], x_train, y_train)"
   ]
  },
  {
   "cell_type": "code",
   "execution_count": 7,
   "metadata": {
    "scrolled": false
   },
   "outputs": [
    {
     "data": {
      "image/png": "[encoded data removed]",
      "text/plain": [
       "<matplotlib.figure.Figure at 0x7fb0a8d256a0>"
      ]
     },
     "metadata": {},
     "output_type": "display_data"
    },
    {
     "data": {
      "image/png": "[encoded data removed]",
      "text/plain": [
       "<matplotlib.figure.Figure at 0x7fb0a8cf6128>"
      ]
     },
     "metadata": {},
     "output_type": "display_data"
    },
    {
     "data": {
      "image/png": "[encoded data removed]",
      "text/plain": [
       "<matplotlib.figure.Figure at 0x7fb0a6808f60>"
      ]
     },
     "metadata": {},
     "output_type": "display_data"
    },
    {
     "data": {
      "image/png": "[encoded data removed]",
      "text/plain": [
       "<matplotlib.figure.Figure at 0x7fb0ae1dd358>"
      ]
     },
     "metadata": {},
     "output_type": "display_data"
    },
    {
     "data": {
      "image/png": "[encoded data removed]",
      "text/plain": [
       "<matplotlib.figure.Figure at 0x7fb0a8d259e8>"
      ]
     },
     "metadata": {},
     "output_type": "display_data"
    },
    {
     "data": {
      "image/png": "[encoded data removed]",
      "text/plain": [
       "<matplotlib.figure.Figure at 0x7fb0a67e5588>"
      ]
     },
     "metadata": {},
     "output_type": "display_data"
    },
    {
     "data": {
      "image/png": "[encoded data removed]",
      "text/plain": [
       "<matplotlib.figure.Figure at 0x7fb0a6739198>"
      ]
     },
     "metadata": {},
     "output_type": "display_data"
    },
    {
     "data": {
      "image/png": "[encoded data removed]",
      "text/plain": [
       "<matplotlib.figure.Figure at 0x7fb0a6716a20>"
      ]
     },
     "metadata": {},
     "output_type": "display_data"
    },
    {
     "data": {
      "image/png": "[encoded data removed]",
      "text/plain": [
       "<matplotlib.figure.Figure at 0x7fb0a6745320>"
      ]
     },
     "metadata": {},
     "output_type": "display_data"
    }
   ],
   "source": [
    "for i in range(9):\n",
    "    plt.imshow(x_train_base[i])\n",
    "    plt.show()"
   ]
  },
  {
   "cell_type": "code",
   "execution_count": 8,
   "metadata": {},
   "outputs": [],
   "source": [
    "x_test_base, y_test_base = getDigitsFromDataset([*range(8)], x_test, y_test)"
   ]
  },
  {
   "cell_type": "markdown",
   "metadata": {},
   "source": [
    "Now that we have the train / test split for our `base` dataset, let's do the same for our `transfer` dataset."
   ]
  },
  {
   "cell_type": "code",
   "execution_count": 9,
   "metadata": {},
   "outputs": [],
   "source": [
    "x_train_transfer, y_train_transfer = getDigitsFromDataset([8, 9], x_train, y_train)"
   ]
  },
  {
   "cell_type": "code",
   "execution_count": 10,
   "metadata": {
    "scrolled": false
   },
   "outputs": [
    {
     "data": {
      "image/png": "[encoded data removed]",
      "text/plain": [
       "<matplotlib.figure.Figure at 0x7fb0a664d978>"
      ]
     },
     "metadata": {},
     "output_type": "display_data"
    },
    {
     "data": {
      "image/png": "[encoded data removed]",
      "text/plain": [
       "<matplotlib.figure.Figure at 0x7fb0a66d9c18>"
      ]
     },
     "metadata": {},
     "output_type": "display_data"
    },
    {
     "data": {
      "image/png": "[encoded data removed]",
      "text/plain": [
       "<matplotlib.figure.Figure at 0x7fb0a56b4a20>"
      ]
     },
     "metadata": {},
     "output_type": "display_data"
    },
    {
     "data": {
      "image/png": "[encoded data removed]",
      "text/plain": [
       "<matplotlib.figure.Figure at 0x7fb0a5692470>"
      ]
     },
     "metadata": {},
     "output_type": "display_data"
    },
    {
     "data": {
      "image/png": "[encoded data removed]",
      "text/plain": [
       "<matplotlib.figure.Figure at 0x7fb0a55f5630>"
      ]
     },
     "metadata": {},
     "output_type": "display_data"
    },
    {
     "data": {
      "image/png": "[encoded data removed]",
      "text/plain": [
       "<matplotlib.figure.Figure at 0x7fb0a55cad30>"
      ]
     },
     "metadata": {},
     "output_type": "display_data"
    },
    {
     "data": {
      "image/png": "[encoded data removed]",
      "text/plain": [
       "<matplotlib.figure.Figure at 0x7fb0a552a2b0>"
      ]
     },
     "metadata": {},
     "output_type": "display_data"
    },
    {
     "data": {
      "image/png": "[encoded data removed]",
      "text/plain": [
       "<matplotlib.figure.Figure at 0x7fb0a5504c88>"
      ]
     },
     "metadata": {},
     "output_type": "display_data"
    },
    {
     "data": {
      "image/png": "[encoded data removed]",
      "text/plain": [
       "<matplotlib.figure.Figure at 0x7fb0a5476d68>"
      ]
     },
     "metadata": {},
     "output_type": "display_data"
    }
   ],
   "source": [
    "for i in range(9):\n",
    "    plt.imshow(x_train_transfer[i])\n",
    "    plt.show()"
   ]
  },
  {
   "cell_type": "code",
   "execution_count": 11,
   "metadata": {},
   "outputs": [],
   "source": [
    "x_test_transfer, y_test_transfer = getDigitsFromDataset([8,9], x_test, y_test)"
   ]
  },
  {
   "cell_type": "markdown",
   "metadata": {},
   "source": [
    "### Graph Definition\n",
    "This is going to mostly be a sequential model, except that it's going to fork at the end into two final layers, loss functions, accuracy calculations, and optimizers.\n",
    "\n",
    "We'll use one of the forks to train the whole model on digits `0` through `7`, and then we'll use the other fork to train only a single layer on the digits `8` and `9`.\n",
    "\n",
    "To do this, let's make use of `TensorFlow`'s `variable_scope`, so that we can easily separate `base` from `transfer` in generating lists of trainable variables to pass to our optimizer's `minimize()` method.\n",
    "\n",
    "Additionally, since we want to be able to train the `base` and `transfer` `variable_scope`s separately, we're also going to define separate loss functions, optimizers, and accuracy metrics."
   ]
  },
  {
   "cell_type": "code",
   "execution_count": 12,
   "metadata": {},
   "outputs": [],
   "source": [
    "x = tf.placeholder(tf.float32, shape=[None, 28, 28], name=\"inputs\")\n",
    "\n",
    "### Base Model\n",
    "with tf.variable_scope(\"base\"):\n",
    "    y_base = tf.placeholder(tf.float32, shape=[None, 8], name=\"labels\")\n",
    "\n",
    "    # Reshape input\n",
    "    res = tf.reshape(x, shape=[-1, 28, 28, 1], name=\"reshape\")\n",
    "\n",
    "    # Conv\n",
    "    with tf.variable_scope(\"conv1\"):\n",
    "        c1 = tf.contrib.layers.conv2d(inputs=res,\n",
    "                                  num_outputs=32,\n",
    "                                  kernel_size=5,\n",
    "                                  stride=1,\n",
    "                                  padding='SAME',\n",
    "                                  activation_fn=tf.nn.relu,\n",
    "                                  weights_initializer=tf.initializers.truncated_normal(stddev=0.1),\n",
    "                                  biases_initializer=tf.initializers.constant(0.1))\n",
    "        \n",
    "    # Pool\n",
    "    mp1 = tf.nn.max_pool(c1, ksize=[1, 2, 2, 1],\n",
    "                            strides=[1, 2, 2, 1], padding='SAME', name=\"maxpool1\")\n",
    "\n",
    "    # Conv\n",
    "    with tf.variable_scope(\"conv2\"):\n",
    "        c2 = tf.contrib.layers.conv2d(inputs=mp1,\n",
    "                                  num_outputs=64,\n",
    "                                  kernel_size=5,\n",
    "                                  stride=1,\n",
    "                                  padding='SAME',\n",
    "                                  activation_fn=tf.nn.relu,\n",
    "                                  weights_initializer=tf.initializers.truncated_normal(stddev=0.1),\n",
    "                                  biases_initializer=tf.initializers.constant(0.1))\n",
    "    # Pool\n",
    "    mp2 = tf.nn.max_pool(c2, ksize=[1, 2, 2, 1],\n",
    "                            strides=[1, 2, 2, 1], padding='SAME', name=\"maxpool2\")\n",
    "\n",
    "    # Flatten\n",
    "    flat = tf.layers.flatten(mp2, name=\"flatten\")\n",
    "\n",
    "    # FC\n",
    "    with tf.variable_scope(\"dense1\"):\n",
    "        fc1 = tf.contrib.layers.fully_connected(inputs=flat,\n",
    "                                      num_outputs=1024,\n",
    "                                      activation_fn=tf.nn.relu,\n",
    "                                      weights_initializer=tf.initializers.truncated_normal(stddev=0.1),\n",
    "                                      biases_initializer=tf.initializers.constant(0.1))\n",
    "\n",
    "    # Drop\n",
    "    keep_prob = tf.placeholder(tf.float32, name=\"keep_prob\")\n",
    "    dr = tf.nn.dropout(fc1, keep_prob, name=\"bottleneck\")\n",
    "\n",
    "    # FC\n",
    "    with tf.variable_scope(\"logits\"):\n",
    "        fc2_base = tf.contrib.layers.fully_connected(inputs=dr,\n",
    "                                      num_outputs=8,\n",
    "                                      activation_fn=None,\n",
    "                                      weights_initializer=tf.initializers.truncated_normal(stddev=0.1),\n",
    "                                      biases_initializer=tf.initializers.constant(0.1))\n",
    "    \n",
    "    #### Model Evaluation\n",
    "    \n",
    "    with tf.variable_scope(\"cross_entropy\"):\n",
    "        cross_entropy_base = tf.reduce_mean(\n",
    "        tf.nn.softmax_cross_entropy_with_logits(labels=y_base, logits=fc2_base))\n",
    "    \n",
    "    base_vars = [var for var in tf.trainable_variables() if var.name.startswith(\"base\")]\n",
    "    \n",
    "    with tf.variable_scope(\"Adam\"):\n",
    "        train_step_base = tf.train.AdamOptimizer(1e-4).minimize(cross_entropy_base, var_list=base_vars)\n",
    "    \n",
    "    with tf.variable_scope(\"correct_prediction\"):\n",
    "        correct_prediction_base = tf.equal(tf.argmax(fc2_base, 1), tf.argmax(y_base, 1))\n",
    "    \n",
    "    with tf.variable_scope(\"accuracy\"):\n",
    "        accuracy_base = tf.reduce_mean(tf.cast(correct_prediction_base, tf.float32))\n",
    "        \n",
    "\n",
    "### Transfer Fork\n",
    "with tf.variable_scope(\"transfer\"):\n",
    "    y_trans = tf.placeholder(tf.float32, shape=[None, 2], name=\"labels\")\n",
    "    \n",
    "    # FC\n",
    "    with tf.variable_scope(\"logits\"):\n",
    "        fc2_trans = tf.contrib.layers.fully_connected(inputs=dr,\n",
    "                                      num_outputs=2,\n",
    "                                      activation_fn=None,\n",
    "                                      weights_initializer=tf.initializers.truncated_normal(stddev=0.1),\n",
    "                                      biases_initializer=tf.initializers.constant(0.1))\n",
    "    \n",
    "    #### Model Evaluation\n",
    "    with tf.variable_scope(\"cross_entropy\"):\n",
    "        cross_entropy_trans = tf.reduce_mean(\n",
    "        tf.nn.softmax_cross_entropy_with_logits(labels=y_trans, logits=fc2_trans))\n",
    "    \n",
    "    trans_vars = [var for var in tf.trainable_variables() if var.name.startswith(\"transfer\")]\n",
    "    \n",
    "    with tf.variable_scope(\"Adam\"):\n",
    "        train_step_trans = tf.train.AdamOptimizer(1e-4).minimize(cross_entropy_trans, var_list=trans_vars)\n",
    "        \n",
    "    with tf.variable_scope(\"correct_prediction\"):\n",
    "        correct_prediction_trans = tf.equal(tf.argmax(fc2_trans, 1), tf.argmax(y_trans, 1))\n",
    "    \n",
    "    with tf.variable_scope(\"accuracy\"):\n",
    "        accuracy_trans = tf.reduce_mean(tf.cast(correct_prediction_trans, tf.float32))"
   ]
  },
  {
   "cell_type": "markdown",
   "metadata": {},
   "source": [
    "The architecture we defined above looks like this in `TensorBoard`:  \n",
    "![Model Architecture](img/graph.png)\n",
    "\n",
    "Note especially that the **Adam** optimizers here are different.  \n",
    "Specifically, one trains the \"base\" variables, and one trains the \"transfer\" variables.  \n",
    "Base-training Adam Optimizer:  \n",
    "![Base-training Adam Optimizer](img/graph_base_highlight.png)  \n",
    "Transfer-training Adam Optimizer:\n",
    "![Transfer-training Adam Optimizer](img/graph_trans_highlight.png)"
   ]
  },
  {
   "cell_type": "markdown",
   "metadata": {},
   "source": [
    "In order to convince ourselves that our `base` training is only updating the model variables in the `base` scope (and similarly that the `transfer` training is only updating the model variables in the `transfer` scope), let's grab everything so that we can display it in `TensorBoard` for inspection."
   ]
  },
  {
   "cell_type": "code",
   "execution_count": 13,
   "metadata": {},
   "outputs": [
    {
     "name": "stdout",
     "output_type": "stream",
     "text": [
      "INFO:tensorflow:Summary name base/conv1/Conv/weights:0 is illegal; using base/conv1/Conv/weights_0 instead.\n",
      "INFO:tensorflow:Summary name base/conv1/Conv/biases:0 is illegal; using base/conv1/Conv/biases_0 instead.\n",
      "INFO:tensorflow:Summary name base/conv2/Conv/weights:0 is illegal; using base/conv2/Conv/weights_0 instead.\n",
      "INFO:tensorflow:Summary name base/conv2/Conv/biases:0 is illegal; using base/conv2/Conv/biases_0 instead.\n",
      "INFO:tensorflow:Summary name base/dense1/fully_connected/weights:0 is illegal; using base/dense1/fully_connected/weights_0 instead.\n",
      "INFO:tensorflow:Summary name base/dense1/fully_connected/biases:0 is illegal; using base/dense1/fully_connected/biases_0 instead.\n",
      "INFO:tensorflow:Summary name base/logits/fully_connected/weights:0 is illegal; using base/logits/fully_connected/weights_0 instead.\n",
      "INFO:tensorflow:Summary name base/logits/fully_connected/biases:0 is illegal; using base/logits/fully_connected/biases_0 instead.\n",
      "INFO:tensorflow:Summary name transfer/logits/fully_connected/weights:0 is illegal; using transfer/logits/fully_connected/weights_0 instead.\n",
      "INFO:tensorflow:Summary name transfer/logits/fully_connected/biases:0 is illegal; using transfer/logits/fully_connected/biases_0 instead.\n"
     ]
    }
   ],
   "source": [
    "for v in tf.trainable_variables():\n",
    "    tf.summary.histogram(v.name, v)"
   ]
  },
  {
   "cell_type": "markdown",
   "metadata": {},
   "source": [
    "### Batching function\n"
   ]
  },
  {
   "cell_type": "code",
   "execution_count": 14,
   "metadata": {},
   "outputs": [],
   "source": [
    "def get_batches(x, y, batch_size=50, num_classes=8):\n",
    "    '''\n",
    "    Given a set of features x, and a set of labels y,\n",
    "    return a generator yields shuffled batch_size tuples of x and y.\n",
    "    \n",
    "    Note that this function truncates x and y, if necessary,\n",
    "    so that it only returns full batches.\n",
    "    '''\n",
    "    ## Shuffle x and y on the same index permutation\n",
    "    permute = np.random.permutation(range(len(x)))\n",
    "    x = x[permute]\n",
    "    y = y[permute]\n",
    "    \n",
    "    ## Truncate x and y so that no batch is empty\n",
    "    num_batches = len(x) // batch_size\n",
    "    x, y = x[:num_batches * batch_size], y[:num_batches * batch_size]\n",
    "    \n",
    "    # One-hot encode the labels:\n",
    "    y = np.eye(num_classes)[y]\n",
    "    \n",
    "    for i in range(0, len(x), batch_size):\n",
    "        yield x[i:i + batch_size], y[i:i + batch_size]"
   ]
  },
  {
   "cell_type": "markdown",
   "metadata": {},
   "source": [
    "### Train the Base Model\n",
    "As discussed above, now let's train the base model on digits `0` through `7`.\n",
    "\n",
    "Later, we will train the final transfer layer to recognize the digits `8` and `9`."
   ]
  },
  {
   "cell_type": "code",
   "execution_count": 15,
   "metadata": {},
   "outputs": [],
   "source": [
    "# To keep our summary directories separate\n",
    "from datetime import datetime"
   ]
  },
  {
   "cell_type": "code",
   "execution_count": 16,
   "metadata": {},
   "outputs": [
    {
     "name": "stdout",
     "output_type": "stream",
     "text": [
      "step 50, base training accuracy 0.84\n",
      "step 100, base training accuracy 0.88\n",
      "step 150, base training accuracy 0.94\n",
      "step 200, base training accuracy 0.98\n",
      "step 250, base training accuracy 0.92\n",
      "step 300, base training accuracy 0.92\n",
      "step 350, base training accuracy 0.96\n",
      "step 400, base training accuracy 0.94\n",
      "step 450, base training accuracy 0.96\n",
      "step 500, base training accuracy 0.94\n",
      "step 550, base training accuracy 1\n",
      "step 600, base training accuracy 0.98\n",
      "step 650, base training accuracy 0.94\n",
      "step 700, base training accuracy 0.98\n",
      "step 750, base training accuracy 0.94\n",
      "step 800, base training accuracy 1\n",
      "step 850, base training accuracy 0.96\n",
      "step 900, base training accuracy 0.98\n",
      "step 950, base training accuracy 1\n",
      "base test accuracy 0.975427\n"
     ]
    }
   ],
   "source": [
    "batch_size = 50\n",
    "epochs = 1\n",
    "\n",
    "# Define a time-stamped directory in which to keep the TensorBoard data for this run\n",
    "summaries_dir = \"./summaries/\" + datetime.now().strftime(\"%Y%m%d%H%M%S\")\n",
    "\n",
    "saver = tf.train.Saver()\n",
    "\n",
    "with tf.Session() as sess:\n",
    "    sess.run(tf.global_variables_initializer())\n",
    "    merged = tf.summary.merge_all()\n",
    "    base_writer = tf.summary.FileWriter(summaries_dir + '/base', sess.graph)\n",
    "    \n",
    "    i = 1\n",
    "    for e in range(epochs):\n",
    "        for x_, y_ in get_batches(x_train_base, y_train_base, batch_size):\n",
    "            if i % 50 == 0:\n",
    "                train_accuracy, summary = sess.run([accuracy_base, merged],\n",
    "                    feed_dict={x: x_,\n",
    "                               y_base: y_,\n",
    "                               keep_prob: 1.0})\n",
    "                print('step %d, base training accuracy %g' % (i, train_accuracy))\n",
    "                base_writer.add_summary(summary, i)\n",
    "            \n",
    "            train_step_base.run(\n",
    "                feed_dict={x: x_,\n",
    "                           y_base: y_,\n",
    "                           keep_prob: 0.5})\n",
    "            i += 1\n",
    "\n",
    "    y_test_base_oh = np.eye(8)[y_test_base]\n",
    "    print('base test accuracy %g' % accuracy_base.eval(\n",
    "        feed_dict={\n",
    "            x: x_test_base,\n",
    "            y_base: y_test_base_oh,\n",
    "            keep_prob: 1.0}))\n",
    "    \n",
    "    saver.save(sess, \"checkpoints/base.ckpt\")"
   ]
  },
  {
   "cell_type": "markdown",
   "metadata": {},
   "source": [
    "### Sanity Check the Base Model\n",
    "As of right now, the base model shouldn't know anything about the digits `8` or `9`.\n",
    "\n",
    "Let's load our trained model, and test the accuracy of the transfer fork on some training examples from the transfer dataset."
   ]
  },
  {
   "cell_type": "code",
   "execution_count": 17,
   "metadata": {},
   "outputs": [
    {
     "data": {
      "text/plain": [
       "array([9, 8, 9, ..., 9, 8, 8], dtype=uint8)"
      ]
     },
     "execution_count": 17,
     "metadata": {},
     "output_type": "execute_result"
    }
   ],
   "source": [
    "y_train_transfer"
   ]
  },
  {
   "cell_type": "markdown",
   "metadata": {},
   "source": [
    "Let's abandon the previous indexing.\n",
    "\n",
    "This allows us to represent the digit `8` as the class `0`, and the digit `9` as the class `1`.\n",
    "\n",
    "That is, `0` isn't the digit `0`, and `1` isn't the digit `1`.\n",
    "\n",
    "Otherwise, we would have to do some gymnastics to properly represent what is essentially a binary classification problem."
   ]
  },
  {
   "cell_type": "code",
   "execution_count": 18,
   "metadata": {},
   "outputs": [
    {
     "data": {
      "text/plain": [
       "array([[ 0.,  1.],\n",
       "       [ 1.,  0.],\n",
       "       [ 0.,  1.],\n",
       "       ..., \n",
       "       [ 0.,  1.],\n",
       "       [ 1.,  0.],\n",
       "       [ 1.,  0.]])"
      ]
     },
     "execution_count": 18,
     "metadata": {},
     "output_type": "execute_result"
    }
   ],
   "source": [
    "np.eye(2)[y_train_transfer - 8]"
   ]
  },
  {
   "cell_type": "code",
   "execution_count": 19,
   "metadata": {},
   "outputs": [
    {
     "data": {
      "text/plain": [
       "(11800, 2)"
      ]
     },
     "execution_count": 19,
     "metadata": {},
     "output_type": "execute_result"
    }
   ],
   "source": [
    "np.eye(2)[y_train_transfer - 8].shape"
   ]
  },
  {
   "cell_type": "code",
   "execution_count": 20,
   "metadata": {},
   "outputs": [
    {
     "name": "stdout",
     "output_type": "stream",
     "text": [
      "INFO:tensorflow:Restoring parameters from checkpoints/base.ckpt\n",
      "transfer accuracy 0.392034\n"
     ]
    }
   ],
   "source": [
    "with tf.Session() as sess:\n",
    "    saver.restore(sess, tf.train.latest_checkpoint('checkpoints'))\n",
    "    y_train_transfer_oh = np.eye(2)[y_train_transfer - 8]\n",
    "    print('transfer accuracy %g' % accuracy_trans.eval(\n",
    "        feed_dict={\n",
    "            x: x_train_transfer,\n",
    "            y_trans: y_train_transfer_oh,\n",
    "            keep_prob: 1.0}))\n"
   ]
  },
  {
   "cell_type": "markdown",
   "metadata": {},
   "source": [
    "Well, that's about what we would expect for a totally untrained model.\n",
    "\n",
    "Let's see if we can't improve that classification by **only** training the `TensorFlow` variables in the `transfer` scope."
   ]
  },
  {
   "cell_type": "code",
   "execution_count": 21,
   "metadata": {},
   "outputs": [
    {
     "name": "stdout",
     "output_type": "stream",
     "text": [
      "INFO:tensorflow:Restoring parameters from checkpoints/base.ckpt\n",
      "step 50, transfer training accuracy 0.56\n",
      "step 100, transfer training accuracy 0.66\n",
      "step 150, transfer training accuracy 0.78\n",
      "step 200, transfer training accuracy 0.8\n",
      "step 250, transfer training accuracy 0.9\n",
      "step 300, transfer training accuracy 0.92\n",
      "step 350, transfer training accuracy 0.88\n",
      "step 400, transfer training accuracy 0.86\n",
      "step 450, transfer training accuracy 0.96\n",
      "step 500, transfer training accuracy 0.92\n",
      "step 550, transfer training accuracy 0.92\n",
      "step 600, transfer training accuracy 0.98\n",
      "step 650, transfer training accuracy 0.96\n",
      "step 700, transfer training accuracy 0.94\n",
      "step 750, transfer training accuracy 0.98\n",
      "step 800, transfer training accuracy 0.98\n",
      "step 850, transfer training accuracy 0.9\n",
      "step 900, transfer training accuracy 1\n",
      "step 950, transfer training accuracy 0.94\n",
      "step 1000, transfer training accuracy 0.96\n",
      "step 1050, transfer training accuracy 0.96\n",
      "step 1100, transfer training accuracy 0.96\n",
      "step 1150, transfer training accuracy 0.9\n",
      "transfer test accuracy 0.968734\n"
     ]
    }
   ],
   "source": [
    "batch_size = 50\n",
    "epochs = 5\n",
    "\n",
    "with tf.Session() as sess:\n",
    "    saver.restore(sess, tf.train.latest_checkpoint('checkpoints'))\n",
    "    \n",
    "    i = 1\n",
    "    trans_writer = tf.summary.FileWriter(summaries_dir + '/transfer', sess.graph)\n",
    "    \n",
    "    for e in range(epochs):\n",
    "        for x_, y_ in get_batches(x_train_transfer, y_train_transfer - 8, batch_size, num_classes=2):\n",
    "            if i % 50 == 0:\n",
    "                train_accuracy, summary = sess.run([accuracy_trans, merged],\n",
    "                    feed_dict={x: x_,\n",
    "                               y_trans: y_,\n",
    "                               keep_prob: 1.0})\n",
    "                print('step %d, transfer training accuracy %g' % (i, train_accuracy))\n",
    "                trans_writer.add_summary(summary, i)\n",
    "            \n",
    "            train_step_trans.run(\n",
    "                feed_dict={x: x_,\n",
    "                           y_trans: y_,\n",
    "                           keep_prob: 0.5})\n",
    "            i += 1\n",
    "\n",
    "    y_test_transfer_oh = np.eye(2)[y_test_transfer - 8]\n",
    "    print('transfer test accuracy %g' % accuracy_trans.eval(\n",
    "        feed_dict={\n",
    "            x: x_test_transfer,\n",
    "            y_trans: y_test_transfer_oh,\n",
    "            keep_prob: 1.0}))\n",
    "    \n",
    "    saver.save(sess, \"checkpoints/trans.ckpt\")"
   ]
  },
  {
   "cell_type": "markdown",
   "metadata": {},
   "source": [
    "But now, let's check to see that the base model still doesn't know what the digits `8` and `9` are:"
   ]
  },
  {
   "cell_type": "code",
   "execution_count": 22,
   "metadata": {},
   "outputs": [
    {
     "name": "stdout",
     "output_type": "stream",
     "text": [
      "INFO:tensorflow:Restoring parameters from checkpoints/trans.ckpt\n",
      "base accuracy on transfer digits 0.0201715\n"
     ]
    }
   ],
   "source": [
    "with tf.Session() as sess:\n",
    "    saver.restore(sess, tf.train.latest_checkpoint('checkpoints'))\n",
    "    y_test_transfer_oh = np.eye(8)[y_test_transfer - 8]\n",
    "    print('base accuracy on transfer digits %g' % accuracy_base.eval(\n",
    "        feed_dict={\n",
    "            x: x_test_transfer,\n",
    "            y_base: y_test_transfer_oh,\n",
    "            keep_prob: 1.0}))"
   ]
  },
  {
   "cell_type": "markdown",
   "metadata": {},
   "source": [
    "Additionally, the base model actually shouldn't have changed at all.\n",
    "\n",
    "To confirm this, let's see that the test accuracy on the base digit set is still the same:"
   ]
  },
  {
   "cell_type": "code",
   "execution_count": 23,
   "metadata": {},
   "outputs": [
    {
     "name": "stdout",
     "output_type": "stream",
     "text": [
      "INFO:tensorflow:Restoring parameters from checkpoints/trans.ckpt\n",
      "base test accuracy 0.975427\n"
     ]
    }
   ],
   "source": [
    "with tf.Session() as sess:\n",
    "    saver.restore(sess, tf.train.latest_checkpoint('checkpoints'))\n",
    "    y_test_base_oh = np.eye(8)[y_test_base]\n",
    "    print('base test accuracy %g' % accuracy_base.eval(\n",
    "        feed_dict={\n",
    "            x: x_test_base,\n",
    "            y_base: y_test_base_oh,\n",
    "            keep_prob: 1.0}))\n"
   ]
  },
  {
   "cell_type": "markdown",
   "metadata": {},
   "source": [
    "The base test accuracy is the same out to the 6 decimal places we're checking; that's a good sign that training the `transfer`-scoped variables didn't change the original `base` model.\n",
    "\n",
    "However, let's inspect the variables that we added summaries for in above. \n",
    "\n",
    "# Exploring the Variables\n",
    "Since we've defined summaries for all of the trainable variables, `TensorBoard` allows us to view how the values for these variables are distributed during our operations above.\n",
    "\n",
    "We've broken the summaries that we've saved into those that occurred during training on the digits `0` through `7` (the \"**base**\" training), and those that occurred during training on the digits `8` and `9`.\n",
    "\n",
    "As can be seen the `base`-scoped variables (top 4 rows) only updated during the **base** training (in pink), and the `transfer`-scoped variables (bottom row) only updated during the **transfer** training (in green).\n",
    "\n",
    "![first variable histogram](img/var_hist_1.png)\n",
    "![second variable histogram](img/var_hist_2.png)\n",
    "\n",
    "This lends further credence to the theory that we've successfully trained a transfer learning model from scratch."
   ]
  },
  {
   "cell_type": "code",
   "execution_count": null,
   "metadata": {},
   "outputs": [],
   "source": []
  }
 ],
 "metadata": {
  "kernelspec": {
   "display_name": "Python 3",
   "language": "python",
   "name": "python3"
  },
  "language_info": {
   "codemirror_mode": {
    "name": "ipython",
    "version": 3
   },
   "file_extension": ".py",
   "mimetype": "text/x-python",
   "name": "python",
   "nbconvert_exporter": "python",
   "pygments_lexer": "ipython3",
   "version": "3.6.4"
  }
 },
 "nbformat": 4,
 "nbformat_minor": 2
}
